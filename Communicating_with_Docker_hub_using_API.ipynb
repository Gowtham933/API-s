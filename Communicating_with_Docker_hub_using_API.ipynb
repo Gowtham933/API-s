{
  "nbformat": 4,
  "nbformat_minor": 0,
  "metadata": {
    "colab": {
      "provenance": [],
      "authorship_tag": "ABX9TyNkYqW3Amkeo3efp8aOOFAb",
      "include_colab_link": true
    },
    "kernelspec": {
      "name": "python3",
      "display_name": "Python 3"
    },
    "language_info": {
      "name": "python"
    }
  },
  "cells": [
    {
      "cell_type": "markdown",
      "metadata": {
        "id": "view-in-github",
        "colab_type": "text"
      },
      "source": [
        "<a href=\"https://colab.research.google.com/github/Gowtham933/API-s/blob/main/Communicating_with_Docker_hub_using_API.ipynb\" target=\"_parent\"><img src=\"https://colab.research.google.com/assets/colab-badge.svg\" alt=\"Open In Colab\"/></a>"
      ]
    },
    {
      "cell_type": "code",
      "source": [
        "pip install docker"
      ],
      "metadata": {
        "colab": {
          "base_uri": "https://localhost:8080/"
        },
        "id": "KB4f_LN6YAWo",
        "outputId": "96ae49af-a21b-4859-afe4-7734e0c7f382"
      },
      "execution_count": 12,
      "outputs": [
        {
          "output_type": "stream",
          "name": "stdout",
          "text": [
            "Requirement already satisfied: docker in /usr/local/lib/python3.11/dist-packages (7.1.0)\n",
            "Requirement already satisfied: requests>=2.26.0 in /usr/local/lib/python3.11/dist-packages (from docker) (2.32.3)\n",
            "Requirement already satisfied: urllib3>=1.26.0 in /usr/local/lib/python3.11/dist-packages (from docker) (2.3.0)\n",
            "Requirement already satisfied: charset-normalizer<4,>=2 in /usr/local/lib/python3.11/dist-packages (from requests>=2.26.0->docker) (3.4.1)\n",
            "Requirement already satisfied: idna<4,>=2.5 in /usr/local/lib/python3.11/dist-packages (from requests>=2.26.0->docker) (3.10)\n",
            "Requirement already satisfied: certifi>=2017.4.17 in /usr/local/lib/python3.11/dist-packages (from requests>=2.26.0->docker) (2024.12.14)\n"
          ]
        }
      ]
    },
    {
      "cell_type": "code",
      "source": [
        "pip install requests"
      ],
      "metadata": {
        "colab": {
          "base_uri": "https://localhost:8080/"
        },
        "id": "mJS3vLhKamcj",
        "outputId": "a1a638c3-dabd-47a5-cc24-28eff2de3316"
      },
      "execution_count": 17,
      "outputs": [
        {
          "output_type": "stream",
          "name": "stdout",
          "text": [
            "Requirement already satisfied: requests in /usr/local/lib/python3.11/dist-packages (2.32.3)\n",
            "Requirement already satisfied: charset-normalizer<4,>=2 in /usr/local/lib/python3.11/dist-packages (from requests) (3.4.1)\n",
            "Requirement already satisfied: idna<4,>=2.5 in /usr/local/lib/python3.11/dist-packages (from requests) (3.10)\n",
            "Requirement already satisfied: urllib3<3,>=1.21.1 in /usr/local/lib/python3.11/dist-packages (from requests) (2.3.0)\n",
            "Requirement already satisfied: certifi>=2017.4.17 in /usr/local/lib/python3.11/dist-packages (from requests) (2024.12.14)\n"
          ]
        }
      ]
    },
    {
      "cell_type": "code",
      "source": [
        "import requests\n",
        "from requests.auth import HTTPBasicAuth\n",
        "\n",
        "username = '******'\n",
        "password = '******'  # Or use access token\n",
        "\n",
        "# Example API URL to list repositories\n",
        "url = \"https://app.docker.com/\"\n",
        "response = requests.get(url, auth=HTTPBasicAuth(username, password))\n",
        "\n",
        "if response.status_code == 200:\n",
        "    print(\"Authentication successful!\")\n",
        "else:\n",
        "    print(f\"Authentication failed with status code {response.status_code}\")\n"
      ],
      "metadata": {
        "colab": {
          "base_uri": "https://localhost:8080/"
        },
        "id": "vOkLAVsCYSj4",
        "outputId": "7df49955-6bd5-45ca-e19f-757036b1b1ab"
      },
      "execution_count": 29,
      "outputs": [
        {
          "output_type": "stream",
          "name": "stdout",
          "text": [
            "Authentication successful!\n"
          ]
        }
      ]
    },
    {
      "cell_type": "code",
      "source": [
        "url = f\"https://hub.docker.com/v2/repositories/{username}/\"\n",
        "response = requests.get(url, auth=HTTPBasicAuth(username, password))\n",
        "\n",
        "if response.status_code == 200:\n",
        "    repositories = response.json()['results']\n",
        "    image_names = [repo['name'] for repo in repositories]\n",
        "    print(f\"Image Names: {image_names}\")\n",
        "else:\n",
        "    print(f\"Failed to fetch repositories: {response.status_code}\")"
      ],
      "metadata": {
        "colab": {
          "base_uri": "https://localhost:8080/"
        },
        "id": "-vZpdlzlcH6t",
        "outputId": "62d564fe-454b-4d20-ac52-53593b588b31"
      },
      "execution_count": 31,
      "outputs": [
        {
          "output_type": "stream",
          "name": "stdout",
          "text": [
            "Image Names: ['myimage']\n"
          ]
        }
      ]
    }
  ]
}